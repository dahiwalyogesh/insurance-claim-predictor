{
 "cells": [
  {
   "cell_type": "code",
   "execution_count": null,
   "id": "339f748e-7cda-4672-a76c-cda6853b53ea",
   "metadata": {},
   "outputs": [],
   "source": []
  }
 ],
 "metadata": {
  "kernelspec": {
   "display_name": "",
   "name": ""
  },
  "language_info": {
   "name": ""
  }
 },
 "nbformat": 4,
 "nbformat_minor": 5
}
